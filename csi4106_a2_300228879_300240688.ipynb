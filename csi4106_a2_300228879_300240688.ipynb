{
  "cells": [
    {
      "cell_type": "markdown",
      "metadata": {},
      "source": [
        "**CSI 4106 Introduction to Artificial Intelligence** <br/>\n",
        "*Assignment 2: Machine Learning*\n",
        "\n",
        "# Identification\n",
        "\n",
        "Name: Matsuru Hoshi<br/>\n",
        "Student Number: 300228879\n",
        "\n",
        "Name: Yu-Chen Lee<br/>\n",
        "Student Number: 300240688\n",
        "\n"
      ]
    },
    {
      "cell_type": "markdown",
      "metadata": {},
      "source": [
        "### TO DO:\n",
        "✅ Data Exploration (matsuru)\\\n",
        "✅ Data Pre-Processing 5 (matsuru)\\\n",
        "✅ Data Pre-Processing 6 (matsuru)\\\n",
        "🟥 Model Development & Evaluation 7 (renny)\\\n",
        "🟥 Model Development & Evaluation 8 (renny)\\\n",
        "🟥 Hyperparameter Optimization (both)\\\n",
        "🟥 Analysis of Results (both)\\\n",
        "🟥 Documentation & Resources (both)"
      ]
    },
    {
      "cell_type": "markdown",
      "metadata": {},
      "source": [
        "## Importing Important Libaries"
      ]
    },
    {
      "cell_type": "code",
      "execution_count": 45,
      "metadata": {},
      "outputs": [],
      "source": [
        "import pandas as pd\n",
        "import matplotlib.pylab as plt\n",
        "import seaborn as sns\n",
        "from sklearn.model_selection import train_test_split\n",
        "from sklearn.pipeline import Pipeline\n",
        "from sklearn.compose import ColumnTransformer\n",
        "from sklearn.preprocessing import OneHotEncoder, OrdinalEncoder, RobustScaler"
      ]
    },
    {
      "cell_type": "markdown",
      "metadata": {},
      "source": [
        "# 1. Exploratory Analysis\n",
        "\n",
        "## Data Exploration\n",
        "\n",
        "In this assignment, we will utilize the Diabetes Prediction Dataset, accessible via [Diabetes Prediction Dataset](https://www.kaggle.com/datasets/iammustafatz/diabetes-prediction-dataset/data). To mitigate the complexity associated with Kaggle's login requirement, the dataset has been made available on a public GitHub repository:\n",
        "\n",
        "- [github.com/turcotte/csi4106-f24/tree/main/assignments-data/a2](https://github.com/turcotte/csi4106-f24/tree/main/assignments-data/a2)\n",
        "\n",
        "You can access and read the dataset directly from this GitHub repository in your Jupyter notebook."
      ]
    },
    {
      "cell_type": "code",
      "execution_count": 2,
      "metadata": {},
      "outputs": [],
      "source": [
        "url = 'https://raw.githubusercontent.com/turcotte/csi4106-f24/refs/heads/main/assignments-data/a2/diabetes_prediction_dataset.csv'\n",
        "\n",
        "diabetes_df = pd.read_csv(url)"
      ]
    },
    {
      "cell_type": "markdown",
      "metadata": {},
      "source": [
        "1. **Load the dataset and provide a summary of its structure**:\n",
        "\n",
        "    - Describe the features (columns), their data types, and the target variable."
      ]
    },
    {
      "cell_type": "code",
      "execution_count": null,
      "metadata": {},
      "outputs": [],
      "source": [
        "diabetes_df"
      ]
    },
    {
      "cell_type": "code",
      "execution_count": null,
      "metadata": {},
      "outputs": [],
      "source": [
        "diabetes_df.describe()"
      ]
    },
    {
      "cell_type": "code",
      "execution_count": null,
      "metadata": {},
      "outputs": [],
      "source": [
        "diabetes_df.info()"
      ]
    },
    {
      "cell_type": "markdown",
      "metadata": {},
      "source": [
        "#### Identifiying values of ambiguous attributes\n",
        "- Gender\n",
        "- Hypertension\n",
        "- Heart Disease\n",
        "- Smoking History\n",
        "- Diabetes\n",
        "\n",
        "The following cells counts the number of recurrent values in each attribute."
      ]
    },
    {
      "cell_type": "code",
      "execution_count": null,
      "metadata": {},
      "outputs": [],
      "source": [
        "diabetes_df.gender.value_counts()"
      ]
    },
    {
      "cell_type": "markdown",
      "metadata": {},
      "source": [
        "We can expect 3 values for the `gender` attribute."
      ]
    },
    {
      "cell_type": "code",
      "execution_count": null,
      "metadata": {},
      "outputs": [],
      "source": [
        "diabetes_df.heart_disease.value_counts()"
      ]
    },
    {
      "cell_type": "markdown",
      "metadata": {},
      "source": [
        "For `heart_disease`, it looks like we have binary values. "
      ]
    },
    {
      "cell_type": "code",
      "execution_count": null,
      "metadata": {},
      "outputs": [],
      "source": [
        "diabetes_df.hypertension.value_counts()"
      ]
    },
    {
      "cell_type": "markdown",
      "metadata": {},
      "source": [
        "For `hypertension`, we have binary values as well. "
      ]
    },
    {
      "cell_type": "code",
      "execution_count": null,
      "metadata": {},
      "outputs": [],
      "source": [
        "diabetes_df.smoking_history.value_counts()"
      ]
    },
    {
      "cell_type": "markdown",
      "metadata": {},
      "source": [
        "We have a finite (5) number of possible values for the `smoking_history`."
      ]
    },
    {
      "cell_type": "markdown",
      "metadata": {},
      "source": [
        "#### Identifying the target variable"
      ]
    },
    {
      "cell_type": "code",
      "execution_count": null,
      "metadata": {},
      "outputs": [],
      "source": [
        "diabetes_df.diabetes.value_counts()"
      ]
    },
    {
      "cell_type": "markdown",
      "metadata": {},
      "source": [
        "From the cell above, we have identified that the `diabetes` column/attribute is *binary*, and thus can be used in a binary classification task. From this, we can also conclude that it must represent whether the patient has diabetes (1 or 0 ≈ yes or no).\n",
        "\n",
        "Thus, we can safely say that `diabetes` will be our target variable."
      ]
    },
    {
      "cell_type": "markdown",
      "metadata": {},
      "source": [
        "2. **Feature Distribution Analysis**:\n",
        "\n",
        "    - Examine the distribution of each feature using appropriate visualizations such as histograms and boxplots. Discuss insights gained, including the presence of outliers."
      ]
    },
    {
      "cell_type": "code",
      "execution_count": null,
      "metadata": {},
      "outputs": [],
      "source": [
        "diabetes_df.info()"
      ]
    },
    {
      "cell_type": "markdown",
      "metadata": {},
      "source": [
        "#### Gender"
      ]
    },
    {
      "cell_type": "markdown",
      "metadata": {},
      "source": [
        "We will look at the gender distribution of the dataset."
      ]
    },
    {
      "cell_type": "code",
      "execution_count": null,
      "metadata": {},
      "outputs": [],
      "source": [
        "diabetes_df.gender.hist(figsize=(5,3))"
      ]
    },
    {
      "cell_type": "markdown",
      "metadata": {},
      "source": [
        "It appears there are slightly more women than men. \"Other\" is not large enough to appear on the graph.\n",
        "\n"
      ]
    },
    {
      "cell_type": "code",
      "execution_count": null,
      "metadata": {},
      "outputs": [],
      "source": [
        "sns.countplot(diabetes_df, x=\"gender\", hue=\"diabetes\")\n",
        "plt.title('Diabetes by Gender Disbtribution')\n",
        "plt.show()"
      ]
    },
    {
      "cell_type": "markdown",
      "metadata": {},
      "source": [
        "It is not entirely clear if this is significant, but it appears the diabetes-rate among men is higher than women."
      ]
    },
    {
      "cell_type": "markdown",
      "metadata": {},
      "source": [
        "#### Age"
      ]
    },
    {
      "cell_type": "markdown",
      "metadata": {},
      "source": [
        "Let us take a look the histogram for age."
      ]
    },
    {
      "cell_type": "code",
      "execution_count": null,
      "metadata": {},
      "outputs": [],
      "source": [
        "sns.histplot(diabetes_df, x=\"age\")\n",
        "plt.show()"
      ]
    },
    {
      "cell_type": "markdown",
      "metadata": {},
      "source": [
        "It appears there are some peaks. There are some outliers at the low and high ends and a slight rise in the middle."
      ]
    },
    {
      "cell_type": "markdown",
      "metadata": {},
      "source": [
        "We will plot a boxplot for the age attribute."
      ]
    },
    {
      "cell_type": "code",
      "execution_count": null,
      "metadata": {},
      "outputs": [],
      "source": [
        "sns.boxplot(diabetes_df, x=\"gender\", y=\"age\", hue=\"diabetes\")\n",
        "plt.show()"
      ]
    },
    {
      "cell_type": "markdown",
      "metadata": {},
      "source": [
        "We can see from this boxplot that most diabetetic patients are closer to the 50-70 age mark. That said, there are multiple outliers that fall under the lower wisker of the diabetes-positive boxplot.\n",
        "\n",
        "Furthermore, there appear to be no outliers in the upper wisker."
      ]
    },
    {
      "cell_type": "code",
      "execution_count": null,
      "metadata": {},
      "outputs": [],
      "source": [
        "sns.scatterplot(diabetes_df, x=\"age\", y=\"diabetes\", hue=\"diabetes\")\n",
        "plt.show()"
      ]
    },
    {
      "cell_type": "markdown",
      "metadata": {},
      "source": [
        "It seems the scatter plot is not relevant. In fact, this makes sense I would guess. There are many people of all ages without diabetes. There is no strong relationship between age and diabetes."
      ]
    },
    {
      "cell_type": "markdown",
      "metadata": {},
      "source": [
        "#### Smoking History"
      ]
    },
    {
      "cell_type": "code",
      "execution_count": null,
      "metadata": {},
      "outputs": [],
      "source": [
        "sns.histplot(diabetes_df, x=\"smoking_history\")\n",
        "plt.plot()"
      ]
    },
    {
      "cell_type": "markdown",
      "metadata": {},
      "source": [
        "We will plot a more complex count plot to compare each category with the target variable."
      ]
    },
    {
      "cell_type": "code",
      "execution_count": null,
      "metadata": {},
      "outputs": [],
      "source": [
        "sns.countplot(diabetes_df, x=\"smoking_history\", hue=\"diabetes\")\n",
        "plt.show()"
      ]
    },
    {
      "cell_type": "markdown",
      "metadata": {},
      "source": [
        "It appears that having vs not having smoking history doesn't have a very strong correlation to having diabetes."
      ]
    },
    {
      "cell_type": "markdown",
      "metadata": {},
      "source": [
        "#### Body Mass Index (BMI)"
      ]
    },
    {
      "cell_type": "markdown",
      "metadata": {},
      "source": [
        "We use plot a histogram for BMI."
      ]
    },
    {
      "cell_type": "code",
      "execution_count": null,
      "metadata": {},
      "outputs": [],
      "source": [
        "sns.histplot(diabetes_df, x=\"bmi\")\n",
        "plt.show()"
      ]
    },
    {
      "cell_type": "markdown",
      "metadata": {},
      "source": [
        "There is clealry a specific value that was probably chosen for quick data collection... That said, this data looks fairly normal. Let us plot this against age and gender."
      ]
    },
    {
      "cell_type": "code",
      "execution_count": null,
      "metadata": {},
      "outputs": [],
      "source": [
        "sns.scatterplot(diabetes_df, x=\"age\", y=\"bmi\", hue=\"gender\", palette=\"rocket\")\n",
        "plt.show()"
      ]
    },
    {
      "cell_type": "markdown",
      "metadata": {},
      "source": [
        "This is very insightful. There appears to be no correlation with gender. However, we can see a slight increase of BMI between 30 to 60.\n",
        "\n",
        "Let's see what we can see when we look at diabetes instead."
      ]
    },
    {
      "cell_type": "code",
      "execution_count": null,
      "metadata": {},
      "outputs": [],
      "source": [
        "sns.scatterplot(diabetes_df, x=\"age\", y=\"bmi\", hue=\"diabetes\")\n",
        "plt.show()"
      ]
    },
    {
      "cell_type": "markdown",
      "metadata": {},
      "source": [
        "Of course, we already knew from the Age analysis that diabetes was higher with age, but it seems BMI also plays a certain role near certain ages. The points in the higher BMI range for their age class seem to be more likely to have diabetes."
      ]
    },
    {
      "cell_type": "markdown",
      "metadata": {},
      "source": [
        "Since this is a continuous value, we will use a scatter plot against the binary diabetes."
      ]
    },
    {
      "cell_type": "code",
      "execution_count": null,
      "metadata": {},
      "outputs": [],
      "source": [
        "sns.scatterplot(diabetes_df, x=\"bmi\", y=\"diabetes\", hue=\"diabetes\")\n",
        "plt.show()"
      ]
    },
    {
      "cell_type": "markdown",
      "metadata": {},
      "source": [
        "There appears to be no correlation."
      ]
    },
    {
      "cell_type": "markdown",
      "metadata": {},
      "source": [
        "### HbA1c Level"
      ]
    },
    {
      "cell_type": "code",
      "execution_count": null,
      "metadata": {},
      "outputs": [],
      "source": [
        "sns.histplot(diabetes_df, x=\"HbA1c_level\")\n",
        "plt.show()"
      ]
    },
    {
      "cell_type": "markdown",
      "metadata": {},
      "source": [
        "This looks suspicously like the smoking_plot. Let us plot them against each other to see."
      ]
    },
    {
      "cell_type": "code",
      "execution_count": null,
      "metadata": {},
      "outputs": [],
      "source": [
        "sns.scatterplot(diabetes_df, x=\"HbA1c_level\", y=\"smoking_history\", hue=\"diabetes\")\n",
        "plt.show()"
      ]
    },
    {
      "cell_type": "markdown",
      "metadata": {},
      "source": [
        "Nevermind, it appears there is no correlation. However, this does show something quite clearly. High HbA1c level is an indicator of diabetes. Let us plot it against the target variable instead."
      ]
    },
    {
      "cell_type": "code",
      "execution_count": null,
      "metadata": {},
      "outputs": [],
      "source": [
        "sns.barplot(diabetes_df, x=\"diabetes\", y=\"HbA1c_level\", hue=\"diabetes\")\n",
        "plt.show()"
      ]
    },
    {
      "cell_type": "markdown",
      "metadata": {},
      "source": [
        "Clearly, above a HbA1c level of 7, the patient has diabetes. We can see from the previous cell that there are of course some outliers."
      ]
    },
    {
      "cell_type": "markdown",
      "metadata": {},
      "source": [
        "We will again plot a scatter plot to see any correlation between the continuous and binary value."
      ]
    },
    {
      "cell_type": "code",
      "execution_count": null,
      "metadata": {},
      "outputs": [],
      "source": [
        "sns.scatterplot(diabetes_df, x=\"HbA1c_level\", y=\"diabetes\", hue=\"diabetes\")\n",
        "plt.show()"
      ]
    },
    {
      "cell_type": "markdown",
      "metadata": {},
      "source": [
        "Indeed, it appears that HbA1c level has a logistic curve relation with diabetes.\n",
        "\n",
        "This makes sense since Hb1Ac is a type of blood-glucose test that shows your average blood-glucose levels in the past 2-3 months before the exam.\n",
        "\n",
        "Source: [Medline Plus](https://medlineplus.gov/lab-tests/hemoglobin-a1c-hba1c-test/)"
      ]
    },
    {
      "cell_type": "markdown",
      "metadata": {},
      "source": [
        "#### Blood Glucose Level"
      ]
    },
    {
      "cell_type": "code",
      "execution_count": null,
      "metadata": {},
      "outputs": [],
      "source": [
        "sns.histplot(diabetes_df, x=\"blood_glucose_level\")\n",
        "plt.show()"
      ]
    },
    {
      "cell_type": "markdown",
      "metadata": {},
      "source": [
        "Let's try the same scatter plot with blood-glucose level (a test taken showing current blood-glucose levels)"
      ]
    },
    {
      "cell_type": "code",
      "execution_count": null,
      "metadata": {},
      "outputs": [],
      "source": [
        "sns.scatterplot(diabetes_df, x=\"blood_glucose_level\", y=\"diabetes\", hue=\"diabetes\")\n",
        "plt.show()"
      ]
    },
    {
      "cell_type": "markdown",
      "metadata": {},
      "source": [
        "Likewise, while slightly less, blood-glucose level also has a similar logistic relationship to diabetes. Indeed, this a well-known factor of diabetes.\n",
        "\n",
        "Let us try to plot HbA1c level against blood-glucose level and highlight diabetes."
      ]
    },
    {
      "cell_type": "code",
      "execution_count": null,
      "metadata": {},
      "outputs": [],
      "source": [
        "sns.scatterplot(diabetes_df, x=\"HbA1c_level\", y=\"blood_glucose_level\", hue=\"diabetes\")\n",
        "plt.show()"
      ]
    },
    {
      "cell_type": "markdown",
      "metadata": {},
      "source": [
        "This is very enriching information. There is a clear correlation between the two variables. This should, however, come as no suprise since both are technically measuring blood-glucose levels, albeit at different times."
      ]
    },
    {
      "cell_type": "markdown",
      "metadata": {},
      "source": [
        "3. **Target Variable Distribution**:\n",
        "\n",
        "    - Analyze the distribution of the target variable to identify class imbalances. Use bar plots to visualize the class frequencies."
      ]
    },
    {
      "cell_type": "code",
      "execution_count": null,
      "metadata": {},
      "outputs": [],
      "source": [
        "sns.countplot(diabetes_df, x=\"diabetes\", hue=\"diabetes\")\n",
        "plt.show()"
      ]
    },
    {
      "cell_type": "markdown",
      "metadata": {},
      "source": [
        "There is a clear imbalance towards non diabetic (0). I suppose this is good... medically speaking? \n",
        "\n",
        "This could affect the model since it will likely be biased towards the dominant class. To ensure our model is predicting as intented, we will make use of good evaluation metrics that account for imbalances. These include:\n",
        "\n",
        "- Precision\n",
        "- Recall\n",
        "- F1-Score"
      ]
    },
    {
      "cell_type": "markdown",
      "metadata": {},
      "source": [
        "4. **Data Splitting**:\n",
        "\n",
        "    - Split the dataset into training (80%) and test (20%) sets using the holdout method.\n",
        "\n",
        "    - Ensure that this split occurs before any preprocessing to avoid data leakage."
      ]
    },
    {
      "cell_type": "code",
      "execution_count": 32,
      "metadata": {},
      "outputs": [],
      "source": [
        "# splitting data train and test\n",
        "diabetes_train, diabetes_test = train_test_split(diabetes_df, test_size=0.2, random_state=42)"
      ]
    },
    {
      "cell_type": "markdown",
      "metadata": {},
      "source": [
        "## Data Pre-Processing\n",
        "\n",
        "5. **Categorical Variable Encoding**:\n",
        "\n",
        "    - Encode any categorical variables. Justify the chosen method."
      ]
    },
    {
      "cell_type": "markdown",
      "metadata": {},
      "source": [
        "There are 4 categorical variables to encode, `gender` and `smoking_history`."
      ]
    },
    {
      "cell_type": "code",
      "execution_count": null,
      "metadata": {},
      "outputs": [],
      "source": [
        "# visualizing training data\n",
        "diabetes_train"
      ]
    },
    {
      "cell_type": "markdown",
      "metadata": {},
      "source": [
        "Let's look closer at the values that they contain:"
      ]
    },
    {
      "cell_type": "code",
      "execution_count": null,
      "metadata": {},
      "outputs": [],
      "source": [
        "diabetes_train.gender.value_counts()"
      ]
    },
    {
      "cell_type": "code",
      "execution_count": null,
      "metadata": {},
      "outputs": [],
      "source": [
        "diabetes_df.hypertension.value_counts()"
      ]
    },
    {
      "cell_type": "code",
      "execution_count": null,
      "metadata": {},
      "outputs": [],
      "source": [
        "diabetes_df.heart_disease.value_counts()"
      ]
    },
    {
      "cell_type": "code",
      "execution_count": null,
      "metadata": {},
      "outputs": [],
      "source": [
        "diabetes_train.smoking_history.value_counts()"
      ]
    },
    {
      "cell_type": "markdown",
      "metadata": {},
      "source": [
        "We note that `gender` contains generalized values in non-specific order.\n",
        "\n",
        "However, we can see `smoking_history` has somewhat orderered values. This is the order I have come up with, from least to worse:\n",
        "\n",
        "1. No Info\n",
        "2. never\n",
        "3. ever\n",
        "4. former\n",
        "5. not current\n",
        "6. current\n",
        "\n",
        "While some of the values have an obvious positioning, others are very ambiguous. For example, the Gov Canada [page](https://www.canada.ca/en/health-canada/services/health-concerns/tobacco/research/tobacco-use-statistics/terminology.html) on Tobacco Usage Classification defines \"ever-smokers\" as \"current and former smokers combined.\" From a quick glance in the cell above, we can see this is not the case for this dataset.\n",
        "\n",
        "Regardless, because they are combined this definition would only make sense when counting from a group, not for classifying individuals.\n",
        "\n",
        "On the other hand, Wiktionary [defines](https://en.wiktionary.org/wiki/ever-smoker) it as:\n",
        "\n",
        "> 1. A person who has ever (that is, at any time in their past) smoked tobacco (e.g., cigarettes, cigars, pipes).\n",
        "\n",
        "> 2. (strictly, operational definition for epidemiology) More precisely, someone who has smoked more than 100 instances (e.g., cigarettes, cigars, pipe bowlfuls) in their lifetime.\n",
        "\n",
        "As such, given the lower instances in the dataset, I have assumed 'ever' refers to someone who has smoked before at some point their life but does not consider themselves a \"smoker\" since they have never *actively* smoked.\n",
        "\n",
        "Note that while this is what I have decided to go with, this is assuming that of all smokers of all time, the number of people who smoked before but never \"got into it\" is lower, while *most* still smoke (current) and *most* have smoked a lot in their lives (former). This why I have placed 'ever' before 'former.' Someone who is a former smoker, that is who was once a 'current' or regular smoker, is arguably more at risk than someone who *may* have smoked before, the 'ever.'\n",
        "\n",
        "There is nothing to back this statement. These are just assumptions I have made.\n",
        "\n",
        "As for 'not-current', I just assumed this means a current smoker whose last cigarette was smoked a longer interval of time than they are usually capable of. Say, 1 week since they last smoked. That said, they haven't given up smoking for as long as a former smoker, so they're still more of a smoker than a former smoker.\n",
        "\n",
        "Again, these are all assumptions."
      ]
    },
    {
      "cell_type": "markdown",
      "metadata": {},
      "source": [
        "So for gender, hypertension, and heart_disease we will be using the `OneHotEncoder()` and for smoking_history `OrdinalEncoder()` with the order specified above.\n",
        "\n",
        "We will specifiy the order for smoking, and force the encoding in the next question, so that the scaling and encoding can both be done in the same column transformer."
      ]
    },
    {
      "cell_type": "code",
      "execution_count": 49,
      "metadata": {},
      "outputs": [],
      "source": [
        "# categories of smoking_history (from \"lowest\" to \"highest\")\n",
        "smoking_classification_order = [['No Info', 'never', 'ever', 'former', 'not current', 'current']]"
      ]
    },
    {
      "cell_type": "markdown",
      "metadata": {},
      "source": [
        "6. **Normalization/Standardization of Numerical Features**:\n",
        "\n",
        "    - Normalize or standardize numerical features if necessary. Describe the technique used (e.g., Min-Max scaling, StandardScaler) and explain why it is suitable for this dataset.\n",
        "\n",
        "    - Ensure that this technique is applied only to the training data, with the same transformation subsequently applied to the test data without fitting on it."
      ]
    },
    {
      "cell_type": "markdown",
      "metadata": {},
      "source": [
        "Based on our earlier analysis of the variables, I've identified that the best scaler to use is: `RobustScaler`\n",
        "\n",
        "This is because the most important features identified that correlate the most with the targer variable often have outliers. StandardScaler and MinMax would not do so well with outliers in the dataset. Features that are already normal won't be affected too much by the RobustScaler transformation.\n",
        "\n",
        "Furthermore, while it is possible to apply different transformations that fit each feature best, this would not be good for the kinds of models we will be fitting the data to. Since we will be using KNN and Logistic Regression which are both models sensitive to ranges, it is best to ensure all features are transformed with the same transformation.\n",
        "\n",
        "For this reason, we will be using RobustScaler.\n"
      ]
    },
    {
      "cell_type": "code",
      "execution_count": 50,
      "metadata": {},
      "outputs": [],
      "source": [
        "# column transformer to apply encoding and scaling\n",
        "full_pipeline = ColumnTransformer([\n",
        "    (\"onehot\", OneHotEncoder(), ['gender', 'hypertension', 'heart_disease']),\n",
        "    ('ord', OrdinalEncoder(categories=smoking_classification_order), ['smoking_history']),\n",
        "    ('scal', RobustScaler(), ['age', 'bmi', 'H1bA1c_level', 'blood_glucose_level'])\n",
        "])"
      ]
    },
    {
      "cell_type": "markdown",
      "metadata": {},
      "source": [
        "## Model Development & Evaluation\n",
        "\n",
        "7. **Model Development**:\n",
        "\n",
        "    - Implement the machine learning models covered in class: Decision Trees, K-Nearest Neighbors (KNN), and Logistic Regression. Use the default parameters of scikit-learn as a baseline for training each model."
      ]
    },
    {
      "cell_type": "code",
      "execution_count": 37,
      "metadata": {},
      "outputs": [],
      "source": []
    },
    {
      "cell_type": "markdown",
      "metadata": {},
      "source": [
        "8. **Model Evaluation**:\n",
        "\n",
        "    - Use cross-validation to evaluate each model, justifying your choice of the number of folds.\n",
        "\n",
        "    - Assess the models using metrics such as precision, recall, and F1-score."
      ]
    },
    {
      "cell_type": "code",
      "execution_count": 38,
      "metadata": {},
      "outputs": [],
      "source": [
        "# Code cell"
      ]
    },
    {
      "cell_type": "markdown",
      "metadata": {},
      "source": [
        "## Hyperparameter Optimization\n",
        "\n",
        "9. **Exploration and Performance Evaluation:**\n",
        "\n",
        "    - Investigate the impact of varying hyperparameter values on the performance of each model.\n",
        "\n",
        "    - Focus on the following relevant hyperparameters for each model:\n",
        "\n",
        "        - [DecisionTreeClassifier](https://scikit-learn.org/dev/modules/generated/sklearn.tree.DecisionTreeClassifier.html): `criterion` and `max_depth`.\n",
        "  \n",
        "        - [LogisticRegression](https://scikit-learn.org/1.5/modules/generated/sklearn.linear_model.LogisticRegression.html): `penalty`, `max_iter`, and `tol`.\n",
        "  \n",
        "        - [KNeighborsClassifier](https://scikit-learn.org/dev/modules/generated/sklearn.neighbors.KNeighborsClassifier.html): `n_neighbors` and `weights`.\n",
        "\n",
        "    - Employ a grid search strategy or utilize scikit-learn's built-in methods to thoroughly evaluate all combinations of hyperparameter values. Cross-validation should be used to assess each combination.\n",
        "\n",
        "    - Quantify the performance of each hyperparameter configuration using precision, recall, and F1-score as metrics.\n",
        "\n",
        "    - Display the results in a tabular or graphical format (e.g., line charts, bar charts) to effectively demonstrate the influence of hyperparameter variations on model performance.\n",
        "\n",
        "    - Specify the default values for each hyperparameter tested.\n",
        "\n",
        "    - Analyze the findings and offer insights into which hyperparameter configurations achieved optimal performance for each model."
      ]
    },
    {
      "cell_type": "code",
      "execution_count": 39,
      "metadata": {},
      "outputs": [],
      "source": [
        "# Code cell"
      ]
    },
    {
      "cell_type": "markdown",
      "metadata": {},
      "source": [
        "## Analysis of Results\n",
        "\n",
        "10. **Model Comparison**:\n",
        "\n",
        "    - Compare the results obtained from each model.\n",
        "\n",
        "    - Discuss observed differences in model performance, providing potential explanations. Consider aspects such as model complexity, data imbalance, overfitting, and the impact of parameter tuning on overall results.\n",
        "\n",
        "    - Provide recommendations on which model(s) to choose for this task and justify your choices based on the analysis results.\n",
        "\n",
        "    - Train the recommended model(s) using the optimal parameter values identified from the parameter optimization step. Subsequently, apply the trained model to the test data. Document your observations comprehensively. Specifically, evaluate whether the results derived from cross-validation are consistent with those obtained from the test set."
      ]
    },
    {
      "cell_type": "code",
      "execution_count": 40,
      "metadata": {},
      "outputs": [],
      "source": [
        "# Code cell"
      ]
    },
    {
      "cell_type": "markdown",
      "metadata": {},
      "source": [
        "## 2. Documentation of Exploratory Analysis\n",
        "\n",
        "The report should comprehensively document the entire process followed during this assignment. The Jupyter Notebook must include the following:\n",
        "\n",
        "- Your name(s), student number(s), and a report title.\n",
        "- Explain how the tasks have been split between the members. How did you make sure that both students achieve the learning outcomes? \n",
        "- A section for each step of the exploratory analysis, containing the relevant Python code and explanations or results.\n",
        "  - For sections requiring Python code, include the code in a cell.\n",
        "  - For sections requiring explanations or results, include these in a separate cell or in combination with code cells.\n",
        "- Ensure logical separation of code into different cells. For example, the definition of a function should be in one cell and its execution in another. Avoid placing too much code in a single cell to maintain clarity and readability.\n",
        "- The notebook you submit must include the results of the execution, complete with graphics, ensuring that the teaching assistant can grade the notebook without needing to execute the code.\n",
        "\n",
        "# Resources\n",
        "\n",
        "Environment Setup\n",
        "- https://anaconda.org/anaconda/seaborn\n",
        "\n",
        "Data Understanding\n",
        "- https://www.canada.ca/en/health-canada/services/health-concerns/tobacco/research/tobacco-use-statistics/terminology.html\n",
        "- https://en.wiktionary.org/wiki/ever-smoker\n"
      ]
    }
  ],
  "metadata": {
    "kernelspec": {
      "display_name": "intro-to-ai",
      "language": "python",
      "name": "python3"
    },
    "language_info": {
      "codemirror_mode": {
        "name": "ipython",
        "version": 3
      },
      "file_extension": ".py",
      "mimetype": "text/x-python",
      "name": "python",
      "nbconvert_exporter": "python",
      "pygments_lexer": "ipython3",
      "version": "3.12.6"
    }
  },
  "nbformat": 4,
  "nbformat_minor": 4
}
